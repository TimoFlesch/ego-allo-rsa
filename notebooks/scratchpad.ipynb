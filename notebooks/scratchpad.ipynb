{
 "cells": [
  {
   "cell_type": "code",
   "execution_count": null,
   "metadata": {},
   "outputs": [],
   "source": [
    "%load_ext autoreload\n",
    "%autoreload 2\n",
    "import matplotlib.pyplot as plt\n",
    "import numpy as np\n",
    "from typing import Tuple\n",
    "import torch\n",
    "from torch import nn\n",
    "import pandas as pd\n",
    "import torchvision.transforms as T\n",
    "from torch.utils.data import TensorDataset\n",
    "import pickle\n",
    "import io"
   ]
  },
  {
   "cell_type": "code",
   "execution_count": null,
   "metadata": {},
   "outputs": [],
   "source": [
    "import os, sys\n",
    "root_path = root_path = os.path.realpath('../')\n",
    "try:\n",
    "    import ego_allo_rnns\n",
    "except ModuleNotFoundError:\n",
    "    sys.path.append(root_path)\n",
    "    # sys.path.append(os.path.join(root_path, \"ego_allo_rnns\"))\n",
    "from ego_allo_rnns.utils.utils import front_frame, input_frame, input_label"
   ]
  },
  {
   "cell_type": "code",
   "execution_count": null,
   "metadata": {},
   "outputs": [],
   "source": [
    "xy = np.zeros((50,50))\n",
    "width =5\n",
    "x_locs = np.array([16,32,8,24,40,16,32])+1\n",
    "y_locs = np.array([16,16,24,24,24,32,32])+1\n",
    "for x,y in zip(x_locs, y_locs):\n",
    "    xy[x-width//2:x+width//2,y-width//2:y+width//2] = 1\n",
    "\n",
    "plt.imshow(xy.T)\n",
    "for i,(x,y) in enumerate(zip(x_locs,y_locs)):\n",
    "    plt.text(x-2,y+1,str(i+1),fontdict={'fontsize':20,'color':'k'})"
   ]
  },
  {
   "cell_type": "code",
   "execution_count": null,
   "metadata": {},
   "outputs": [],
   "source": [
    "trial_types = np.array([\n",
    "    [(0,2),(1,3),(3,5),(4,6)],\n",
    "    [(0,3),(1,4),(2,5),(3,6)],\n",
    "    [(1,0),(3,2),(4,3),(6,5)], \n",
    "    [(0,1),(2,3),(3,4),(5,6)],\n",
    "    [(3,0),(4,1),(5,2),(6,3)],\n",
    "    [(2,0),(3,1),(5,3),(6,4)]])\n",
    "direction_colors = [\"royalblue\",\"darkred\",\"dodgerblue\",\"indianred\",\"lightblue\",\"pink\"]\n",
    "location_colors = [\"palegreen\",\"lightsalmon\",\"mediumseagreen\",\"olive\",\"goldenrod\",\"green\",\"sienna\"]"
   ]
  },
  {
   "cell_type": "code",
   "execution_count": null,
   "metadata": {},
   "outputs": [],
   "source": [
    "f,axs = plt.subplots(3,2,figsize=(5,10))\n",
    "axs = axs.ravel()\n",
    "for i,(ax,col) in enumerate(zip(axs,direction_colors)):    \n",
    "    ax.imshow(xy.T)\n",
    "    for dirs in range(4):\n",
    "        t = trial_types[i,dirs,:]\n",
    "        ax.arrow(x_locs[t[0]],y_locs[t[0]],(x_locs[t[1]]-x_locs[t[0]])*0.7,(y_locs[t[1]]-y_locs[t[0]])*0.7,color=col,width=0.5,linewidth=5)\n",
    "    \n",
    "\n"
   ]
  },
  {
   "cell_type": "code",
   "execution_count": null,
   "metadata": {},
   "outputs": [],
   "source": [
    "plt.figure(figsize=(2,1),dpi=300)\n",
    "plt.scatter(x_locs,y_locs[::-1],s=200,edgecolors='k',facecolors=location_colors)\n",
    "plt.title(\"Target locations\")\n",
    "ax = plt.gca()\n",
    "ax.set_axis_off()\n",
    "ax.set_xlim(-5,55)\n",
    "ax.set_ylim(10,40)\n",
    "\n",
    "plt.figure(figsize=(2,1),dpi=300)\n",
    "y_locs_flip = y_locs[::-1]\n",
    "for i,col in enumerate(direction_colors):\n",
    "        t = trial_types[i,0,:]        \n",
    "        plt.arrow(0,0,(x_locs[t[1]]-x_locs[t[0]])*0.7,(y_locs_flip[t[1]]-y_locs_flip[t[0]])*0.4,color=col,linewidth=1.2,width=1)\n",
    "plt.title(\"Target directions\")\n",
    "ax = plt.gca()\n",
    "ax.set_axis_off()"
   ]
  },
  {
   "cell_type": "code",
   "execution_count": null,
   "metadata": {},
   "outputs": [],
   "source": [
    "# trial type matrix: start_loc_id, target_loc_id, target_direction_id, start_loc_x, start_loc_y, target_loc_x, target_loc_y, target_loc_color,target_direction_color\n",
    "# location ids: enumerate row by row (as defined in trial_types)\n",
    "# direction ids: enumerate row by row (as shown in subplots above)\n",
    "header = [\"start_loc_id\", \"target_loc_id\", \"target_direction_id\", \"start_loc_x\", \"start_loc_y\", \"target_loc_x\", \"target_loc_y\", \"target_loc_color\",\"target_direction_color\"]\n",
    "rows = []\n",
    "for i,dc in enumerate(direction_colors): #for each motion direction\n",
    "    for j in range(4): # for each trial of that direction\n",
    "        # add pairs of start and goal locations\n",
    "        idces = trial_types[i,j,:]\n",
    "        rows.append([idces[0],idces[1],i,x_locs[idces[0]],y_locs[idces[0]],x_locs[idces[1]],y_locs[idces[1]],location_colors[idces[1]],dc])\n",
    "df = pd.DataFrame(np.asarray(rows),columns=header)\n",
    "cs = header[:-2]\n",
    "cs\n",
    "for c in cs:\n",
    "    df[c] = df[c].astype(\"int32\")\n",
    "df"
   ]
  },
  {
   "cell_type": "code",
   "execution_count": null,
   "metadata": {},
   "outputs": [],
   "source": [
    "# verify that trial indices are correct: generate example inputs for all conditions shown above:\n",
    "width = 5\n",
    "f, axs = plt.subplots(6,4,figsize=(5,10))\n",
    "axs = axs.flatten()\n",
    "for i,ax in enumerate(axs):\n",
    "    xy = np.zeros((50,50))\n",
    "    x_start = df[\"start_loc_x\"][i]    \n",
    "    y_start = df[\"start_loc_y\"][i]\n",
    "    x_target = df[\"target_loc_x\"][i]\n",
    "    y_target = df[\"target_loc_y\"][i]\n",
    "    # add start and target:\n",
    "    xy[x_start-width//2:x_start+width//2,y_start-width//2:y_start+width//2] = 0.7\n",
    "    xy[x_target-width//2:x_target+width//2,y_target-width//2:y_target+width//2] = 1\n",
    "    ax.imshow(xy.T)\n",
    "    ax.set_axis_off()"
   ]
  },
  {
   "cell_type": "code",
   "execution_count": null,
   "metadata": {},
   "outputs": [],
   "source": [
    "\n",
    "start_coord = df[[\"start_loc_y\",\"start_loc_x\"]].to_numpy().T\n",
    "target_coord = df[[\"target_loc_y\",\"target_loc_x\"]].to_numpy().T\n",
    "f,s,t = front_frame(frame_amount=start_coord.shape[1],start_coordinate=start_coord,target_coordinate=target_coord)\n",
    "\n",
    "_, axs = plt.subplots(6,4,figsize=(10,15))\n",
    "axs = axs.flatten()\n",
    "frames = input_frame(f, input_type=\"WC\")\n",
    "for i,ax in enumerate(axs):\n",
    "    ax.imshow(frames[i,:,:])\n",
    "\n",
    "\n",
    "\n",
    "_, axs = plt.subplots(6,4,figsize=(10,15))\n",
    "axs = axs.flatten()\n",
    "frames = input_frame(f, input_type=\"SC\",start_poke=s)\n",
    "for i,ax in enumerate(axs):\n",
    "    ax.imshow(frames[i,:,:])\n"
   ]
  },
  {
   "cell_type": "code",
   "execution_count": null,
   "metadata": {},
   "outputs": [],
   "source": [
    "import torchvision\n",
    "torchvision.__version__"
   ]
  },
  {
   "cell_type": "code",
   "execution_count": null,
   "metadata": {},
   "outputs": [],
   "source": [
    "torch.cuda.is_available()"
   ]
  },
  {
   "cell_type": "code",
   "execution_count": null,
   "metadata": {},
   "outputs": [],
   "source": [
    "# now make test data (x,y pairs, all WC/SC combinations)\n",
    "size_ds = 40\n",
    "input_type = \"WC\"\n",
    "output_type = \"WC\"\n",
    "label_type = \"Cartesian\"\n",
    "n_frames = 11\n",
    "target_frame = (4, 4) # sample bounds of location of target in frame sequence\n",
    "size_ds = size_ds or 100\n",
    "resize = T.Resize(size_ds, interpolation=T.InterpolationMode.NEAREST, antialias=False)\n",
    "\n",
    "# front frames\n",
    "start_coord = df[[\"start_loc_y\", \"start_loc_x\"]].to_numpy().T\n",
    "target_coord = df[[\"target_loc_y\", \"target_loc_x\"]].to_numpy().T\n",
    "n_trials = start_coord.shape[1]\n",
    "\n",
    "frames, start_poke_coordinate, target_poke_coordinate = front_frame(\n",
    "    random_seed=123,\n",
    "    frame_amount=n_trials,\n",
    "    start_coordinate=start_coord,\n",
    "    target_coordinate=target_coord,\n",
    "    show_target=False\n",
    ")\n",
    "x_test_notarget = input_frame(\n",
    "        frames, input_type=input_type, start_poke=start_poke_coordinate\n",
    "    )\n",
    "x_test_notarget = resize(torch.tensor(x_test_notarget)).numpy()\n",
    "\n",
    "frames, start_poke_coordinate, target_poke_coordinate = front_frame(\n",
    "    random_seed=123,\n",
    "    frame_amount=n_trials,\n",
    "    start_coordinate=start_coord,\n",
    "    target_coordinate=target_coord,\n",
    "    show_target=True\n",
    ")\n",
    "x_test_withtarget = input_frame(\n",
    "        frames, input_type=input_type, start_poke=start_poke_coordinate\n",
    "    )\n",
    "x_test_withtarget = resize(torch.tensor(x_test_withtarget)).numpy()\n",
    "\n",
    "\n",
    "x_test = np.repeat(x_test_notarget[:, np.newaxis, :, :], n_frames, axis=1)\n",
    "\n",
    "targets = np.random.uniform(\n",
    "        target_frame[0], target_frame[1] + 1, size=n_frames\n",
    "    ).astype(int)\n",
    "for i, t in enumerate(targets):\n",
    "    # slot in frame with target\n",
    "    x_test[i, t, :, :] = x_test_withtarget[i, :, :]\n"
   ]
  },
  {
   "cell_type": "code",
   "execution_count": null,
   "metadata": {},
   "outputs": [],
   "source": [
    "dims = x_test.shape\n",
    "x_test = torch.tensor(x_test.reshape((*dims[:2], dims[-1] ** 2)), dtype=torch.float)\n",
    "y_test = torch.tensor(\n",
    "    input_label(\n",
    "        start_poke_coordinate, target_poke_coordinate, output_type, label_type\n",
    "    ),\n",
    "    dtype=torch.float,\n",
    ")\n",
    "data_test = TensorDataset(x_test, y_test)"
   ]
  },
  {
   "cell_type": "code",
   "execution_count": null,
   "metadata": {},
   "outputs": [],
   "source": [
    "from ego_allo_rnns.data.EgoVsAllo import make_testset_from_conditions\n",
    "\n",
    "df, data_test = make_testset_from_conditions(random_seed=444)\n",
    "x = data_test[1][0]\n",
    "_,axs = plt.subplots(4,3,figsize=(15,15))\n",
    "axs = axs.flatten()\n",
    "for i, xi in enumerate(x):\n",
    "    axs[i].imshow(xi.reshape((40,40)),vmax=1)\n",
    "    axs[i].set_title(f\"frame {i+1}\")\n",
    "axs[-1].set_axis_off()\n",
    "    "
   ]
  },
  {
   "cell_type": "code",
   "execution_count": null,
   "metadata": {},
   "outputs": [],
   "source": [
    "# inference: load model and pass data through\n",
    "with open(\"../checkpoints/run_WCWC_1/model.pkl\",\"rb\") as f:\n",
    "    rnn = pickle.load(f)"
   ]
  },
  {
   "cell_type": "code",
   "execution_count": null,
   "metadata": {},
   "outputs": [],
   "source": [
    "# class CPU_Unpickler(pickle.Unpickler):\n",
    "#     \"\"\"from https://stackoverflow.com/questions/56369030/runtimeerror-attempting-to-deserialize-object-on-a-cuda-device\n",
    "\n",
    "    \n",
    "#     \"\"\"\n",
    "#     def find_class(self, module, name):\n",
    "#         if module == 'torch.storage' and name == '_load_from_bytes':\n",
    "#             return lambda b: torch.load(io.BytesIO(b), map_location='cpu')\n",
    "#         else: return super().find_class(module, name)\n",
    "# with open(\"../checkpoints/run_WCWC_1/model.pkl\",\"rb\") as f:\n",
    "#     rnn = CPU_Unpickler(f).load()"
   ]
  },
  {
   "cell_type": "code",
   "execution_count": null,
   "metadata": {},
   "outputs": [],
   "source": [
    "device=torch.device(\"cuda\" if torch.cuda.is_available() else \"cpu\")\n",
    "predictions = []\n",
    "ground_truth = []\n",
    "hidden_activity = []\n",
    "rnn.to(device)\n",
    "for x,y in data_test:\n",
    "    y_ = rnn.forward(x.reshape(1,11,1600).to(device))\n",
    "    y_ = y_.to(\"cpu\").detach().numpy()\n",
    "    predictions.append(y_)\n",
    "    ground_truth.append(y.to(\"cpu\").detach().numpy())\n",
    "    hidden_activity.append(rnn.ro.to(\"cpu\").detach().numpy())\n",
    "ground_truth = np.asarray(ground_truth)\n",
    "predictions = np.asarray(predictions).squeeze()\n",
    "hidden_activity = np.asarray(hidden_activity).squeeze()"
   ]
  },
  {
   "cell_type": "code",
   "execution_count": null,
   "metadata": {},
   "outputs": [],
   "source": [
    "hidden_activity.shape"
   ]
  },
  {
   "cell_type": "code",
   "execution_count": null,
   "metadata": {},
   "outputs": [],
   "source": [
    "plt.scatter(ground_truth.flatten(),predictions.flatten(),s=100,alpha=0.2)\n",
    "plt.xlabel(\"ground truth\")\n",
    "plt.ylabel(\"prediction\")\n",
    "plt.title(\"WCWC\")"
   ]
  },
  {
   "cell_type": "code",
   "execution_count": null,
   "metadata": {},
   "outputs": [],
   "source": [
    "location_groups = df.groupby(\"target_loc_color\").indices\n",
    "direction_groups = df.groupby(\"target_direction_color\").indices"
   ]
  },
  {
   "cell_type": "code",
   "execution_count": null,
   "metadata": {},
   "outputs": [],
   "source": [
    "plt.figure()\n",
    "for k,v in location_groups.items():\n",
    "    hv = hidden_activity[v,:,:].mean(-1).mean(0)\n",
    "    plt.plot(hv,color=k)\n",
    "plt.xlabel(\"frame\")\n",
    "plt.ylabel(\"grand mean activity\")\n",
    "plt.title(\"WCWC\")\n",
    "plt.plot([4,4],plt.ylim(),\"k-\")"
   ]
  },
  {
   "cell_type": "code",
   "execution_count": null,
   "metadata": {},
   "outputs": [],
   "source": [
    "from sklearn.decomposition import PCA"
   ]
  },
  {
   "cell_type": "code",
   "execution_count": null,
   "metadata": {},
   "outputs": [],
   "source": []
  }
 ],
 "metadata": {
  "kernelspec": {
   "display_name": "Python 3.9.7 ('pytorch_cuda')",
   "language": "python",
   "name": "python3"
  },
  "language_info": {
   "codemirror_mode": {
    "name": "ipython",
    "version": 3
   },
   "file_extension": ".py",
   "mimetype": "text/x-python",
   "name": "python",
   "nbconvert_exporter": "python",
   "pygments_lexer": "ipython3",
   "version": "3.9.7"
  },
  "vscode": {
   "interpreter": {
    "hash": "a5d4957348ae9dc427d59f6d8883b6c9c94db7cae7f9017e95681c90b26df611"
   }
  }
 },
 "nbformat": 4,
 "nbformat_minor": 2
}
