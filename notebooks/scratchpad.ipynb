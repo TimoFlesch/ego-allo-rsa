{
 "cells": [
  {
   "cell_type": "code",
   "execution_count": null,
   "metadata": {},
   "outputs": [],
   "source": [
    "%load_ext autoreload\n",
    "%autoreload 2\n",
    "import matplotlib.pyplot as plt\n",
    "import numpy as np\n",
    "from typing import Tuple\n",
    "import torch\n",
    "from torch import nn\n"
   ]
  },
  {
   "cell_type": "code",
   "execution_count": null,
   "metadata": {},
   "outputs": [],
   "source": [
    "import os, sys\n",
    "root_path = os.path.realpath('../')\n",
    "sys.path.append(root_path)\n",
    "from ego_allo_rnns.utils.utils import front_frame, input_frame\n",
    "from ego_allo_rnns.data.EgoVsAllo import make_datasets\n",
    "from ego_allo_rnns.models.rnns import RNN"
   ]
  },
  {
   "cell_type": "code",
   "execution_count": null,
   "metadata": {},
   "outputs": [],
   "source": [
    "# set params\n",
    "coordinate_type = \"Cartesian\"\n",
    "input_type = \"SC\"\n",
    "label_type = \"WC\"\n",
    "title = f\"Input type: {input_type}, Label type: {label_type}, {coordinate_type} coordinates\"\n"
   ]
  },
  {
   "cell_type": "markdown",
   "metadata": {},
   "source": [
    "### 1. understand utils.front_frame"
   ]
  },
  {
   "cell_type": "code",
   "execution_count": null,
   "metadata": {},
   "outputs": [],
   "source": [
    "def show_frame(frames: np.ndarray, coords: Tuple, idx: int):\n",
    "    plt.imshow(frames[idx,:,:])\n",
    "    plt.scatter(start_poke_coordinate[1,idx],coords[0][0,idx],s=400,marker='o',edgecolor='lightgreen',facecolor=\"none\",alpha=1)\n",
    "    plt.scatter(target_poke_coordinate[1,idx],coords[1][0,idx],s=400,marker='o',edgecolor='yellow',facecolor=\"none\",alpha=1)\n",
    "    "
   ]
  },
  {
   "cell_type": "code",
   "execution_count": null,
   "metadata": {},
   "outputs": [],
   "source": [
    "from utils import random_poke_generator\n",
    "samples = random_poke_generator(5,3)\n",
    "samples"
   ]
  },
  {
   "cell_type": "code",
   "execution_count": null,
   "metadata": {},
   "outputs": [],
   "source": [
    "# understand front_frame\n",
    "frames, start_poke_coordinate, target_poke_coordinate = front_frame(\n",
    "    random_seed=20, frame_amount=5000)"
   ]
  },
  {
   "cell_type": "code",
   "execution_count": null,
   "metadata": {},
   "outputs": [],
   "source": [
    "idx = 0\n",
    "show_frame(frames,(start_poke_coordinate, target_poke_coordinate), idx)\n"
   ]
  },
  {
   "cell_type": "code",
   "execution_count": null,
   "metadata": {},
   "outputs": [],
   "source": [
    "np.unique(frames[idx,:,:])"
   ]
  },
  {
   "cell_type": "code",
   "execution_count": null,
   "metadata": {},
   "outputs": [],
   "source": [
    "idx = 2\n",
    "show_frame(frames, (start_poke_coordinate, target_poke_coordinate), idx)"
   ]
  },
  {
   "cell_type": "markdown",
   "metadata": {},
   "source": [
    "### 2. understand utils.input_frame"
   ]
  },
  {
   "cell_type": "code",
   "execution_count": null,
   "metadata": {},
   "outputs": [],
   "source": [
    "#understand input_frame\n",
    "idx = 0\n",
    "x_train = input_frame(frames, input_type, start_poke_coordinate)\n",
    "plt.imshow(x_train[idx,:,:])\n",
    "plt.scatter(start_poke_coordinate[1,idx]+30,start_poke_coordinate[0,idx]+16,s=400,marker='o',edgecolor='lightgreen',facecolor=\"none\",alpha=1)\n",
    "plt.scatter(target_poke_coordinate[1,idx]+30,target_poke_coordinate[0,idx]+16,s=400,marker='o',edgecolor='yellow',facecolor=\"none\",alpha=1)"
   ]
  },
  {
   "cell_type": "code",
   "execution_count": null,
   "metadata": {},
   "outputs": [],
   "source": [
    "f, axs = plt.subplots(3,3,figsize=(2,2),dpi=300)\n",
    "x_train = input_frame(frames, output_type=\"WC\", start_poke=start_poke_coordinate)\n",
    "axs = axs.ravel()\n",
    "for ax,img in zip(axs,x_train):\n",
    "    ax.imshow(img)\n",
    "    ax.set_axis_off()\n",
    "f.suptitle(\"World-centered starting location\", fontsize=6)\n"
   ]
  },
  {
   "cell_type": "code",
   "execution_count": null,
   "metadata": {},
   "outputs": [],
   "source": [
    "f, axs = plt.subplots(3,3,figsize=(2,2),dpi=300)\n",
    "x_train = input_frame(frames, output_type=\"SC\", start_poke=start_poke_coordinate)\n",
    "axs = axs.ravel()\n",
    "for ax,img in zip(axs,x_train):\n",
    "    ax.imshow(img)\n",
    "    ax.set_axis_off()\n",
    "f.suptitle(\"Self-centered starting location\", fontsize=6)"
   ]
  },
  {
   "cell_type": "markdown",
   "metadata": {},
   "source": [
    "### 3. understand labels"
   ]
  },
  {
   "cell_type": "code",
   "execution_count": null,
   "metadata": {},
   "outputs": [],
   "source": [
    "unique_locs = {}\n",
    "for xy in start_poke_coordinate.T:\n",
    "    if not str(xy) in unique_locs:\n",
    "        unique_locs[str(xy)] = 1\n",
    "print(len(unique_locs.keys()))\n",
    "\n"
   ]
  },
  {
   "cell_type": "code",
   "execution_count": null,
   "metadata": {},
   "outputs": [],
   "source": [
    "unique_locs = {}\n",
    "for xy in target_poke_coordinate.T:\n",
    "    if not str(xy) in unique_locs:\n",
    "        unique_locs[str(xy)] = 1\n",
    "print(len(unique_locs.keys()))\n"
   ]
  },
  {
   "cell_type": "markdown",
   "metadata": {},
   "source": [
    "## Sanity check"
   ]
  },
  {
   "cell_type": "code",
   "execution_count": null,
   "metadata": {},
   "outputs": [],
   "source": [
    "data_train, data_test = make_datasets(size_ds=40)"
   ]
  },
  {
   "cell_type": "code",
   "execution_count": null,
   "metadata": {},
   "outputs": [],
   "source": [
    "f,axs = plt.subplots(3,4,figsize=(10,10))\n",
    "axs = axs.flatten()\n",
    "\n",
    "for i,ax in enumerate(axs[:-1]):\n",
    "    \n",
    "    im = ax.imshow(data_train[0][4,i,:].reshape(40,40))\n",
    "    im.set_clim(0,1)\n",
    "    ax.set_axis_off()\n",
    "\n",
    "axs[-1].set_axis_off()"
   ]
  },
  {
   "cell_type": "code",
   "execution_count": null,
   "metadata": {},
   "outputs": [],
   "source": [
    "# try to overfit on training data:\n",
    "x_train = torch.tensor(data_train[0][0:10,:],dtype=torch.float).to(\"cuda:0\")\n",
    "y_train = torch.tensor(data_train[1][0:10,:],dtype=torch.float).to(\"cuda:0\")\n"
   ]
  },
  {
   "cell_type": "code",
   "execution_count": null,
   "metadata": {},
   "outputs": [],
   "source": [
    "rnn = RNN(input_size=1600,hidden_size=5).to(\"cuda:0\")\n",
    "optimiser = torch.optim.Adam(rnn.parameters(),lr=1e-2)\n",
    "criterion = nn.MSELoss()\n",
    "mses = []\n",
    "hidden_act = []\n",
    "for epoch in range(3000):\n",
    "    y_ = rnn(x_train)\n",
    "    loss = criterion(y_,y_train)\n",
    "    optimiser.zero_grad()\n",
    "    loss.backward()\n",
    "    optimiser.step()\n",
    "    mses.append(loss.cpu().detach().numpy())\n",
    "    hidden_act.append(rnn.hidden_states)"
   ]
  },
  {
   "cell_type": "code",
   "execution_count": null,
   "metadata": {},
   "outputs": [],
   "source": [
    "plt.plot(mses)"
   ]
  },
  {
   "cell_type": "code",
   "execution_count": null,
   "metadata": {},
   "outputs": [],
   "source": [
    "plt.plot(y_train.cpu().detach().numpy(),y_.cpu().detach().numpy(),'r*')"
   ]
  }
 ],
 "metadata": {
  "kernelspec": {
   "display_name": "Python 3.6.12 ('rnn')",
   "language": "python",
   "name": "python3"
  },
  "language_info": {
   "codemirror_mode": {
    "name": "ipython",
    "version": 3
   },
   "file_extension": ".py",
   "mimetype": "text/x-python",
   "name": "python",
   "nbconvert_exporter": "python",
   "pygments_lexer": "ipython3",
   "version": "3.9.12"
  },
  "vscode": {
   "interpreter": {
    "hash": "9744e21554d00c9d2f62cbe3a7f3e18bc7d09a9d9c27cf5e0b0b8f440d69f103"
   }
  }
 },
 "nbformat": 4,
 "nbformat_minor": 2
}
