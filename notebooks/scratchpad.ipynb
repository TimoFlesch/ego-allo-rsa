{
 "cells": [
  {
   "cell_type": "code",
   "execution_count": null,
   "metadata": {},
   "outputs": [],
   "source": [
    "%load_ext autoreload\n",
    "%autoreload 2\n",
    "import matplotlib.pyplot as plt\n",
    "import numpy as np\n",
    "from typing import Tuple\n",
    "import torch\n",
    "from torch import nn\n"
   ]
  },
  {
   "cell_type": "code",
   "execution_count": null,
   "metadata": {},
   "outputs": [],
   "source": [
    "import matplotlib.pyplot as plt\n",
    "xy = np.zeros((50,50))\n",
    "width =5\n",
    "x_locs = np.array([16,32,8,24,40,16,32])+1\n",
    "y_locs = np.array([16,16,24,24,24,32,32])+1\n",
    "for x,y in zip(x_locs, y_locs):\n",
    "    xy[x-width//2:x+width//2,y-width//2:y+width//2] = 1"
   ]
  },
  {
   "cell_type": "code",
   "execution_count": null,
   "metadata": {},
   "outputs": [],
   "source": [
    "plt.imshow(xy.T)"
   ]
  },
  {
   "cell_type": "code",
   "execution_count": null,
   "metadata": {},
   "outputs": [],
   "source": [
    "trial_types = np.array([\n",
    "    [(0,2),(1,3),(3,5),(4,6)],\n",
    "    [(0,3),(1,4),(2,5),(3,6)],\n",
    "    [(1,0),(3,2),(4,3),(6,5)], \n",
    "    [(0,1),(2,3),(3,4),(5,6)],\n",
    "    [(3,0),(4,1),(5,2),(6,3)],\n",
    "    [(2,0),(3,1),(5,3),(6,4)]])\n",
    "direction_colors = [\"royalblue\",\"darkred\",\"dodgerblue\",\"indianred\",\"lightblue\",\"pink\"]\n",
    "location_colors = [\"palegreen\",\"lightsalmon\",\"mediumseagreen\",\"olive\",\"goldenrod\",\"green\",\"sienna\"]"
   ]
  },
  {
   "cell_type": "code",
   "execution_count": null,
   "metadata": {},
   "outputs": [],
   "source": [
    "f,axs = plt.subplots(3,2,figsize=(15,15))\n",
    "axs = axs.ravel()\n",
    "for i,(ax,col) in enumerate(zip(axs,direction_colors)):    \n",
    "    ax.imshow(xy.T)\n",
    "    for dirs in range(4):\n",
    "        t = trial_types[i,dirs,:]\n",
    "        ax.arrow(x_locs[t[0]],y_locs[t[0]],(x_locs[t[1]]-x_locs[t[0]])*0.7,(y_locs[t[1]]-y_locs[t[0]])*0.7,color=col,width=0.5,linewidth=5)\n",
    "    \n",
    "\n"
   ]
  },
  {
   "cell_type": "code",
   "execution_count": null,
   "metadata": {},
   "outputs": [],
   "source": [
    "# trial type matrix: start_loc_id, target_loc_id, target_direction_id, start_loc_x, start_loc_y, target_loc_x, target_loc_y, target_loc_color,target_direction_color"
   ]
  },
  {
   "cell_type": "code",
   "execution_count": null,
   "metadata": {},
   "outputs": [],
   "source": [
    "plt.figure(figsize=(2,1),dpi=300)\n",
    "plt.scatter(x_locs,y_locs[::-1],s=200,edgecolors='k',facecolors=location_colors)\n",
    "plt.title(\"Target locations\")\n",
    "ax = plt.gca()\n",
    "ax.set_axis_off()\n",
    "ax.set_xlim(-5,55)\n",
    "ax.set_ylim(10,40)"
   ]
  },
  {
   "cell_type": "code",
   "execution_count": null,
   "metadata": {},
   "outputs": [],
   "source": [
    "plt.figure(figsize=(2,1),dpi=300)\n",
    "y_locs_flip = y_locs[::-1]\n",
    "for i,col in enumerate(direction_colors):\n",
    "        t = trial_types[i,0,:]        \n",
    "        plt.arrow(0,0,(x_locs[t[1]]-x_locs[t[0]])*0.7,(y_locs_flip[t[1]]-y_locs_flip[t[0]])*0.4,color=col,linewidth=1.2,width=1)\n",
    "plt.title(\"Target directions\")\n",
    "ax = plt.gca()\n",
    "ax.set_axis_off()\n",
    "# ax.set_xlim(-5,55)\n",
    "# ax.set_ylim(-5,55)"
   ]
  }
 ],
 "metadata": {
  "kernelspec": {
   "display_name": "Python 3.6.12 ('rnn')",
   "language": "python",
   "name": "python3"
  },
  "language_info": {
   "codemirror_mode": {
    "name": "ipython",
    "version": 3
   },
   "file_extension": ".py",
   "mimetype": "text/x-python",
   "name": "python",
   "nbconvert_exporter": "python",
   "pygments_lexer": "ipython3",
   "version": "3.9.12"
  },
  "vscode": {
   "interpreter": {
    "hash": "9744e21554d00c9d2f62cbe3a7f3e18bc7d09a9d9c27cf5e0b0b8f440d69f103"
   }
  }
 },
 "nbformat": 4,
 "nbformat_minor": 2
}
